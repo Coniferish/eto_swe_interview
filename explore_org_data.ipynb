{
 "cells": [
  {
   "cell_type": "code",
   "execution_count": 63,
   "id": "304ddc16",
   "metadata": {},
   "outputs": [],
   "source": [
    "import json\n",
    "import re"
   ]
  },
  {
   "cell_type": "code",
   "execution_count": null,
   "id": "c232cdd1",
   "metadata": {},
   "outputs": [],
   "source": [
    "data = json.load(open('eto_swe_interview_data.json', 'r'))"
   ]
  },
  {
   "cell_type": "code",
   "execution_count": 2,
   "id": "2c0f561f",
   "metadata": {},
   "outputs": [
    {
     "data": {
      "text/plain": [
       "358490"
      ]
     },
     "execution_count": 2,
     "metadata": {},
     "output_type": "execute_result"
    }
   ],
   "source": [
    "len(data)"
   ]
  },
  {
   "cell_type": "code",
   "execution_count": 3,
   "id": "bd5a9bac",
   "metadata": {},
   "outputs": [
    {
     "data": {
      "text/plain": [
       "list"
      ]
     },
     "execution_count": 3,
     "metadata": {},
     "output_type": "execute_result"
    }
   ],
   "source": [
    "type(data)"
   ]
  },
  {
   "cell_type": "code",
   "execution_count": 4,
   "id": "db6333d7",
   "metadata": {},
   "outputs": [
    {
     "data": {
      "text/plain": [
       "[{'id': '2007.00980',\n",
       "  'author_affiliation': 'École Polytechnique Fédérale de Lausanne',\n",
       "  'subject_labels': ['physics.soc-ph', 'cs.SY', 'eess.SY', 'stat.CO'],\n",
       "  'created': '2020-07-02T00:00:00'},\n",
       " {'id': '1211.4098',\n",
       "  'author_affiliation': 'École Normale Supérieure de Lyon',\n",
       "  'subject_labels': ['cs.LO'],\n",
       "  'created': '2012-11-17T00:00:00'},\n",
       " {'id': 'astro-ph/0511397',\n",
       "  'author_affiliation': 'tokyo',\n",
       "  'subject_labels': ['astro-ph'],\n",
       "  'created': '2005-11-14T00:00:00'},\n",
       " {'id': '0708.2510',\n",
       "  'author_affiliation': 'the University of Calgary, Canada',\n",
       "  'subject_labels': ['math.SP', 'math-ph', 'math.MP'],\n",
       "  'created': '2007-08-18T00:00:00'},\n",
       " {'id': '2109.03758',\n",
       "  'author_affiliation': 'the DES collaboration',\n",
       "  'subject_labels': ['astro-ph.EP', 'astro-ph.IM'],\n",
       "  'created': '2021-09-08T00:00:00'}]"
      ]
     },
     "execution_count": 4,
     "metadata": {},
     "output_type": "execute_result"
    }
   ],
   "source": [
    "data[0:5]"
   ]
  },
  {
   "cell_type": "code",
   "execution_count": 5,
   "id": "42fb2611",
   "metadata": {},
   "outputs": [],
   "source": [
    "allOrgs = [x['author_affiliation'] for x in data]"
   ]
  },
  {
   "cell_type": "code",
   "execution_count": 7,
   "id": "7b1e7e90",
   "metadata": {},
   "outputs": [],
   "source": [
    "uniqueOrgs = list(set(allOrgs))"
   ]
  },
  {
   "cell_type": "code",
   "execution_count": 8,
   "id": "941aab21",
   "metadata": {},
   "outputs": [
    {
     "data": {
      "text/plain": [
       "108322"
      ]
     },
     "execution_count": 8,
     "metadata": {},
     "output_type": "execute_result"
    }
   ],
   "source": [
    "len(uniqueOrgs)"
   ]
  },
  {
   "cell_type": "code",
   "execution_count": 16,
   "id": "834e0db0",
   "metadata": {},
   "outputs": [],
   "source": [
    "def count_abbreviations(uniqueOrgs):\n",
    "    for org in uniqueOrgs:\n",
    "        for word in org.split():\n",
    "            if word.isupper():\n",
    "                temp = word.strip(' .,\"')\n",
    "                if abbreviations_count.get(temp):\n",
    "                    abbreviations_count[temp] += 1\n",
    "                else:\n",
    "                    abbreviations_count[temp] = 1            "
   ]
  },
  {
   "cell_type": "code",
   "execution_count": 17,
   "id": "5b9d0b43",
   "metadata": {},
   "outputs": [],
   "source": [
    "def count_words(uniqueOrgs):\n",
    "    for org in uniqueOrgs:\n",
    "        for word in org.split():\n",
    "            temp = word.strip(' .,\"')\n",
    "            if word_count.get(temp):\n",
    "                word_count[temp] += 1\n",
    "            else:\n",
    "                word_count[temp] = 1    "
   ]
  },
  {
   "cell_type": "code",
   "execution_count": 18,
   "id": "80d70e54",
   "metadata": {},
   "outputs": [],
   "source": [
    "import heapq"
   ]
  },
  {
   "cell_type": "code",
   "execution_count": 19,
   "id": "7060f1dc",
   "metadata": {},
   "outputs": [],
   "source": [
    "count_abbreviations(uniqueOrgs)\n",
    "count_words(allOrgs)"
   ]
  },
  {
   "cell_type": "code",
   "execution_count": 20,
   "id": "9ee46c55",
   "metadata": {},
   "outputs": [],
   "source": [
    "mode_abbrs = heapq.nlargest(150, abbreviations_count.keys(), key=abbreviations_count.get)\n",
    "mode_words = heapq.nlargest(150, word_count.keys(), key=word_count.get)\n"
   ]
  },
  {
   "cell_type": "code",
   "execution_count": 21,
   "id": "367de716",
   "metadata": {},
   "outputs": [
    {
     "data": {
      "text/plain": [
       "['U',\n",
       " 'USA',\n",
       " 'UK',\n",
       " 'INFN',\n",
       " 'CNRS',\n",
       " 'INAF',\n",
       " 'CA',\n",
       " 'INRIA',\n",
       " 'UC',\n",
       " 'CERN',\n",
       " 'NY',\n",
       " 'CEA',\n",
       " 'II',\n",
       " 'NASA',\n",
       " 'MA',\n",
       " 'RAS',\n",
       " 'I',\n",
       " 'MPI',\n",
       " 'UMR',\n",
       " 'MIT',\n",
       " 'MD',\n",
       " 'ESO',\n",
       " 'ITP',\n",
       " 'ETH',\n",
       " 'ENS',\n",
       " 'P',\n",
       " 'JINR',\n",
       " 'INFM',\n",
       " 'TU',\n",
       " 'U.K',\n",
       " 'U.S.A',\n",
       " 'UNAM',\n",
       " 'IL',\n",
       " 'A',\n",
       " 'CNR',\n",
       " 'ESA',\n",
       " 'USA;',\n",
       " 'RIKEN',\n",
       " 'MPA',\n",
       " 'TX',\n",
       " 'R',\n",
       " 'CSIC',\n",
       " 'CAS',\n",
       " 'DESY',\n",
       " 'IAP',\n",
       " 'IAS',\n",
       " 'S',\n",
       " 'UCLA',\n",
       " 'PSL',\n",
       " 'AZ',\n",
       " 'M',\n",
       " 'MAGIC',\n",
       " 'PA',\n",
       " 'SRON',\n",
       " 'CMS',\n",
       " 'III',\n",
       " 'NASA/GSFC',\n",
       " 'GEPI',\n",
       " 'NM',\n",
       " 'N',\n",
       " 'IMT',\n",
       " 'GSI',\n",
       " 'NRAO',\n",
       " 'CNRS/IN2P3',\n",
       " 'ATLAS',\n",
       " 'SLAC',\n",
       " 'INP',\n",
       " 'CO',\n",
       " 'NJ',\n",
       " 'SUNY',\n",
       " 'VA',\n",
       " 'CDF',\n",
       " 'D',\n",
       " 'IBM',\n",
       " 'J',\n",
       " 'US',\n",
       " 'UPMC',\n",
       " 'APC',\n",
       " 'SISSA',\n",
       " 'IAC',\n",
       " 'MPE',\n",
       " 'DC',\n",
       " 'NRC',\n",
       " 'CONICET',\n",
       " 'ITEP',\n",
       " 'A&M',\n",
       " 'UK;',\n",
       " 'E',\n",
       " 'MI',\n",
       " 'LERMA',\n",
       " 'ICTP',\n",
       " 'CSIRO',\n",
       " 'AIM',\n",
       " 'MPIA',\n",
       " 'IHEP',\n",
       " 'F',\n",
       " 'OH',\n",
       " 'LBNL',\n",
       " 'WA',\n",
       " 'LANL',\n",
       " 'NL',\n",
       " 'MSU',\n",
       " 'GSFC',\n",
       " 'UCL',\n",
       " 'RWTH',\n",
       " 'IFIC',\n",
       " 'IIT',\n",
       " 'JILA',\n",
       " 'G',\n",
       " 'DAMTP',\n",
       " 'D0',\n",
       " 'BNL',\n",
       " 'CMAP',\n",
       " 'KTH',\n",
       " 'SUPA',\n",
       " 'IFT',\n",
       " 'R&D',\n",
       " 'UT',\n",
       " 'INDIA',\n",
       " 'NAOJ',\n",
       " 'IPN',\n",
       " 'LIP',\n",
       " 'ASTRON',\n",
       " 'KEK',\n",
       " 'LJLL',\n",
       " 'AI',\n",
       " 'EDF',\n",
       " 'IN',\n",
       " 'LESIA',\n",
       " 'CPT',\n",
       " 'CREST',\n",
       " 'TN',\n",
       " 'I.N.F.N',\n",
       " 'P.R',\n",
       " 'NC',\n",
       " 'ASC',\n",
       " 'FL',\n",
       " 'IASF',\n",
       " 'ITA',\n",
       " 'ICC',\n",
       " 'CUNY',\n",
       " 'IECN',\n",
       " 'ZEUS',\n",
       " 'SP',\n",
       " 'OA',\n",
       " 'IKP',\n",
       " 'LUTH',\n",
       " 'IUF',\n",
       " 'C',\n",
       " 'UCSB']"
      ]
     },
     "execution_count": 21,
     "metadata": {},
     "output_type": "execute_result"
    }
   ],
   "source": [
    "mode_abbrs"
   ]
  },
  {
   "cell_type": "code",
   "execution_count": 22,
   "id": "4dd4779d",
   "metadata": {},
   "outputs": [
    {
     "data": {
      "text/plain": [
       "['of',\n",
       " 'University',\n",
       " 'Institute',\n",
       " 'and',\n",
       " 'de',\n",
       " 'for',\n",
       " 'Physics',\n",
       " 'U',\n",
       " 'Univ',\n",
       " 'Department',\n",
       " 'the',\n",
       " 'di',\n",
       " 'Astronomy',\n",
       " 'Observatory',\n",
       " 'State',\n",
       " 'USA',\n",
       " 'Germany',\n",
       " 'Italy',\n",
       " '-',\n",
       " 'National',\n",
       " 'Collaboration',\n",
       " 'Center',\n",
       " 'Research',\n",
       " 'Science',\n",
       " 'Astrophysics',\n",
       " 'Technology',\n",
       " 'The',\n",
       " 'Laboratory',\n",
       " 'France',\n",
       " '&',\n",
       " 'UK',\n",
       " 'Institut',\n",
       " 'College',\n",
       " 'Sciences',\n",
       " 'Space',\n",
       " 'Cambridge',\n",
       " 'Universidad',\n",
       " 'Russia',\n",
       " 'INFN',\n",
       " 'Moscow',\n",
       " 'Paris',\n",
       " 'California',\n",
       " 'Astronomical',\n",
       " 'Spain',\n",
       " 'School',\n",
       " 'Fisica',\n",
       " 'Centre',\n",
       " 'Dept',\n",
       " 'Tokyo',\n",
       " 'at',\n",
       " 'UC',\n",
       " 'Japan',\n",
       " 'Instituto',\n",
       " 'Caltech',\n",
       " 'Princeton',\n",
       " 'Berkeley',\n",
       " 'INRIA',\n",
       " 'India',\n",
       " 'Academy',\n",
       " 'Engineering',\n",
       " 'Inst',\n",
       " 'Nuclear',\n",
       " 'Theoretical',\n",
       " 'Bologna',\n",
       " 'China',\n",
       " 'Oxford',\n",
       " 'Astronomico',\n",
       " 'Heidelberg',\n",
       " 'INAF',\n",
       " 'für',\n",
       " 'Garching',\n",
       " 'Roma',\n",
       " 'MIT',\n",
       " 'Durham',\n",
       " 'CfA',\n",
       " 'Dipartimento',\n",
       " 'New',\n",
       " 'ESO',\n",
       " 'Arizona',\n",
       " 'Columbia',\n",
       " 'Michigan',\n",
       " 'collaboration',\n",
       " 'Trieste',\n",
       " 'Osservatorio',\n",
       " 'Mathematics',\n",
       " 'Padova',\n",
       " 'Washington',\n",
       " 'Texas',\n",
       " 'CNRS',\n",
       " 'Leiden',\n",
       " 'Observatoire',\n",
       " 'CERN',\n",
       " 'London',\n",
       " 'Physik',\n",
       " 'Universität',\n",
       " 'Max-Planck-Institut',\n",
       " 'Chile',\n",
       " 'Bonn',\n",
       " 'fuer',\n",
       " 'La',\n",
       " 'Ohio',\n",
       " 'Netherlands',\n",
       " 'Université',\n",
       " 'Santa',\n",
       " 'Harvard',\n",
       " 'Mexico',\n",
       " 'Harvard-Smithsonian',\n",
       " 'Kyoto',\n",
       " 'Madrid',\n",
       " 'Chicago',\n",
       " 'Amsterdam',\n",
       " 'Canada',\n",
       " 'St',\n",
       " 'STScI',\n",
       " 'Saclay',\n",
       " 'Università',\n",
       " \"Universita'\",\n",
       " 'Australia',\n",
       " 'Maryland',\n",
       " 'Pisa',\n",
       " 'Laboratoire',\n",
       " 'Poland',\n",
       " 'Brazil',\n",
       " 'Carnegie',\n",
       " 'Astrofisica',\n",
       " 'Edinburgh',\n",
       " 'Astronomia',\n",
       " 'Milano',\n",
       " 'Zurich',\n",
       " 'Grenoble',\n",
       " 'Switzerland',\n",
       " 'South',\n",
       " 'Telescope',\n",
       " 'Florida',\n",
       " 'MPA',\n",
       " 'on',\n",
       " 'Departamento',\n",
       " 'Obs',\n",
       " 'Illinois',\n",
       " 'Universidade',\n",
       " 'Korea',\n",
       " 'Computer',\n",
       " 'Division',\n",
       " 'UCLA',\n",
       " 'behalf',\n",
       " 'Israel',\n",
       " 'Los',\n",
       " 'Universitaet',\n",
       " 'Universite',\n",
       " 'Lab']"
      ]
     },
     "execution_count": 22,
     "metadata": {},
     "output_type": "execute_result"
    }
   ],
   "source": [
    "mode_words"
   ]
  },
  {
   "cell_type": "code",
   "execution_count": null,
   "id": "1a120725",
   "metadata": {},
   "outputs": [],
   "source": []
  }
 ],
 "metadata": {
  "kernelspec": {
   "display_name": "Python 3",
   "language": "python",
   "name": "python3"
  },
  "language_info": {
   "codemirror_mode": {
    "name": "ipython",
    "version": 3
   },
   "file_extension": ".py",
   "mimetype": "text/x-python",
   "name": "python",
   "nbconvert_exporter": "python",
   "pygments_lexer": "ipython3",
   "version": "3.8.0"
  }
 },
 "nbformat": 4,
 "nbformat_minor": 5
}
